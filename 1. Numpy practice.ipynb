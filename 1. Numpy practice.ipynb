{
 "cells": [
  {
   "cell_type": "code",
   "execution_count": 1,
   "metadata": {},
   "outputs": [],
   "source": [
    "import numpy as np"
   ]
  },
  {
   "cell_type": "code",
   "execution_count": 17,
   "metadata": {},
   "outputs": [],
   "source": [
    "def print_obj(obj, name):\n",
    "    #print(\"%s:\\n%s\\n\" %(name, obj))\n",
    "    print(f\"{name}:\\n{obj}\\n\")\n",
    "\n",
    "def check_each(a, b):\n",
    "    #return (a == b).astype('bool')\n",
    "    return (a == b)\n",
    "\n",
    "def check_mean(a, b):\n",
    "    return np.mean (a == b)\n",
    "    #return np.mean (a == b).astype('bool')"
   ]
  },
  {
   "cell_type": "markdown",
   "metadata": {},
   "source": [
    "## Scalars, Vectors, Matrices"
   ]
  },
  {
   "cell_type": "code",
   "execution_count": 38,
   "metadata": {},
   "outputs": [
    {
     "name": "stdout",
     "output_type": "stream",
     "text": [
      "a:\n",
      "1.0\n",
      "\n",
      "b:\n",
      "[1. 2. 3.]\n",
      "\n",
      "c:\n",
      "[[1. 2. 3.]\n",
      " [4. 5. 6.]]\n",
      "\n"
     ]
    }
   ],
   "source": [
    "a = np.array(1.)\n",
    "b = np.array([1., 2., 3.])\n",
    "# b = np.array([[1., 2., 3.]])\n",
    "c = np.array([[1., 2., 3.], [4., 5., 6.]])\n",
    "\n",
    "print_obj(a, \"a\")\n",
    "print_obj(b, \"b\")\n",
    "print_obj(c, \"c\")"
   ]
  },
  {
   "cell_type": "code",
   "execution_count": 39,
   "metadata": {},
   "outputs": [
    {
     "name": "stdout",
     "output_type": "stream",
     "text": [
      "a_ndim:\n",
      "0\n",
      "\n",
      "b_dim:\n",
      "1\n",
      "\n",
      "c_dim:\n",
      "2\n",
      "\n"
     ]
    }
   ],
   "source": [
    "print_obj(a.ndim, \"a_ndim\") # ndim: number of dimension  \n",
    "print_obj(b.ndim, \"b_dim\")\n",
    "print_obj(c.ndim, \"c_dim\")"
   ]
  },
  {
   "cell_type": "code",
   "execution_count": 40,
   "metadata": {},
   "outputs": [
    {
     "name": "stdout",
     "output_type": "stream",
     "text": [
      "a.shape:\n",
      "()\n",
      "\n",
      "b.shape:\n",
      "(3,)\n",
      "\n",
      "c.shape:\n",
      "(2, 3)\n",
      "\n"
     ]
    }
   ],
   "source": [
    "print_obj(a.shape, \"a.shape\")\n",
    "print_obj(b.shape, \"b.shape\")\n",
    "print_obj(c.shape, \"c.shape\")"
   ]
  },
  {
   "cell_type": "markdown",
   "metadata": {},
   "source": [
    "## Tensors (N-dimensional array)"
   ]
  },
  {
   "cell_type": "code",
   "execution_count": 37,
   "metadata": {},
   "outputs": [
    {
     "name": "stdout",
     "output_type": "stream",
     "text": [
      "d:\n",
      "[[[ 1.  2.  3.]\n",
      "  [ 4.  5.  6.]]\n",
      "\n",
      " [[ 7.  8.  9.]\n",
      "  [10. 11. 12.]]]\n",
      "\n",
      "d.ndim:\n",
      "3\n",
      "\n",
      "d.shape:\n",
      "(2, 2, 3)\n",
      "\n",
      "e:\n",
      "[[[[ 1.  2.  3.]\n",
      "   [ 1.  2.  3.]]\n",
      "\n",
      "  [[ 4.  5.  6.]\n",
      "   [ 4.  5.  6.]]]\n",
      "\n",
      "\n",
      " [[[ 7.  8.  9.]\n",
      "   [ 7.  8.  9.]]\n",
      "\n",
      "  [[10. 11. 12.]\n",
      "   [10. 11. 12.]]]]\n",
      "\n",
      "e.ndim:\n",
      "4\n",
      "\n",
      "e.shape:\n",
      "(2, 2, 2, 3)\n",
      "\n"
     ]
    }
   ],
   "source": [
    "d = np.array([[[1., 2., 3. ], [4., 5., 6.]], [[7., 8., 9.], [10., 11., 12]]])\n",
    "e = np.array([[[[1., 2., 3. ], [1., 2., 3. ]],[[4., 5., 6], [4., 5., 6]]],[[[7., 8., 9], [7., 8., 9]],[[10., 11., 12], [10., 11., 12]]]])\n",
    "print_obj(d,\"d\" )\n",
    "print_obj(d.ndim, \"d.ndim\")\n",
    "print_obj(d.shape, \"d.shape\")\n",
    "\n",
    "print_obj(e,\"e\" )\n",
    "print_obj(e.ndim, \"e.ndim\")\n",
    "print_obj(e.shape, \"e.shape\")"
   ]
  },
  {
   "cell_type": "code",
   "execution_count": 33,
   "metadata": {},
   "outputs": [
    {
     "name": "stdout",
     "output_type": "stream",
     "text": [
      "a:\n",
      "[[[1]\n",
      "  [2]\n",
      "  [3]]\n",
      "\n",
      " [[4]\n",
      "  [5]\n",
      "  [6]]]\n",
      "\n",
      "a.ndim:\n",
      "3\n",
      "\n",
      "a.shape:\n",
      "(2, 3, 1)\n",
      "\n"
     ]
    }
   ],
   "source": [
    "# Quiz: what is the shape of  [[[1], [2], [3]], [[4], [5], [6]]]? \n",
    "# Answer: (2, 3, 1)\n",
    "\n",
    "a = np.array([[[1], [2], [3]], [[4], [5], [6]]])\n",
    "print_obj(a, \"a\")\n",
    "print_obj(a.ndim, \"a.ndim\")\n",
    "print_obj(a.shape, \"a.shape\")"
   ]
  },
  {
   "cell_type": "markdown",
   "metadata": {},
   "source": [
    "## Defining Numpy arrays"
   ]
  },
  {
   "cell_type": "code",
   "execution_count": 42,
   "metadata": {},
   "outputs": [
    {
     "name": "stdout",
     "output_type": "stream",
     "text": [
      "a:\n",
      "[1. 1. 1. 1. 1. 1. 1. 1. 1. 1.]\n",
      "\n"
     ]
    }
   ],
   "source": [
    "a = np.ones(10)\n",
    "print_obj(a, \"a\")"
   ]
  },
  {
   "cell_type": "code",
   "execution_count": 44,
   "metadata": {},
   "outputs": [
    {
     "name": "stdout",
     "output_type": "stream",
     "text": [
      "a:\n",
      "[[0. 0. 0. 0. 0.]\n",
      " [0. 0. 0. 0. 0.]]\n",
      "\n"
     ]
    }
   ],
   "source": [
    "a = np.zeros((2, 5))\n",
    "print_obj(a, \"a\")"
   ]
  },
  {
   "cell_type": "code",
   "execution_count": 45,
   "metadata": {},
   "outputs": [
    {
     "name": "stdout",
     "output_type": "stream",
     "text": [
      "a:\n",
      "[[5 5 5 5 5]\n",
      " [5 5 5 5 5]]\n",
      "\n"
     ]
    }
   ],
   "source": [
    "a = np.full((2, 5), 5)\n",
    "print_obj(a, \"a\")"
   ]
  },
  {
   "cell_type": "code",
   "execution_count": 46,
   "metadata": {},
   "outputs": [
    {
     "name": "stdout",
     "output_type": "stream",
     "text": [
      "a:\n",
      "[[[0.80995338 0.58563059 0.74900748 0.16894063]\n",
      "  [0.02352224 0.22253463 0.67772744 0.45589746]\n",
      "  [0.19473841 0.10526177 0.13153162 0.54820268]]\n",
      "\n",
      " [[0.51278929 0.6549396  0.94825922 0.62080948]\n",
      "  [0.23707667 0.81532076 0.80461748 0.15253702]\n",
      "  [0.91374492 0.03590623 0.26060953 0.0312668 ]]]\n",
      "\n"
     ]
    }
   ],
   "source": [
    "a = np.random.random((2, 3, 4))\n",
    "print_obj(a, \"a\")"
   ]
  },
  {
   "cell_type": "code",
   "execution_count": 47,
   "metadata": {},
   "outputs": [
    {
     "name": "stdout",
     "output_type": "stream",
     "text": [
      "a:\n",
      "[0 1 2 3 4 5 6 7 8 9]\n",
      "\n"
     ]
    }
   ],
   "source": [
    "a = np.arange(10)\n",
    "print_obj(a, \"a\")"
   ]
  },
  {
   "cell_type": "code",
   "execution_count": 49,
   "metadata": {},
   "outputs": [
    {
     "name": "stdout",
     "output_type": "stream",
     "text": [
      "a:\n",
      "[0. 1. 2. 3. 4. 5. 6. 7. 8. 9.]\n",
      "\n"
     ]
    }
   ],
   "source": [
    "a = np.arange(10).astype(\"float\")\n",
    "print_obj(a, \"a\")"
   ]
  },
  {
   "cell_type": "code",
   "execution_count": 50,
   "metadata": {},
   "outputs": [
    {
     "name": "stdout",
     "output_type": "stream",
     "text": [
      "a:\n",
      "[[0 1]\n",
      " [2 3]\n",
      " [4 5]\n",
      " [6 7]\n",
      " [8 9]]\n",
      "\n",
      "a.dim:\n",
      "2\n",
      "\n",
      "a.shape:\n",
      "(5, 2)\n",
      "\n"
     ]
    }
   ],
   "source": [
    "a = np.arange(10).reshape((5, 2))\n",
    "print_obj(a, \"a\")\n",
    "print_obj(a.ndim, \"a.dim\")\n",
    "print_obj(a.shape, \"a.shape\")"
   ]
  },
  {
   "cell_type": "code",
   "execution_count": 52,
   "metadata": {},
   "outputs": [
    {
     "name": "stdout",
     "output_type": "stream",
     "text": [
      "a:\n",
      "[[[ 0.  1.]\n",
      "  [ 2.  3.]\n",
      "  [ 4.  5.]]\n",
      "\n",
      " [[ 6.  7.]\n",
      "  [ 8.  9.]\n",
      "  [10. 11.]]\n",
      "\n",
      " [[12. 13.]\n",
      "  [14. 15.]\n",
      "  [16. 17.]]\n",
      "\n",
      " [[18. 19.]\n",
      "  [20. 21.]\n",
      "  [22. 23.]]]\n",
      "\n"
     ]
    }
   ],
   "source": [
    "# Quiz: Create a (4, 3, 2) tensor filled with 0.0 to 23.0 \n",
    "a = np.arange(24).astype(\"float\").reshape((4, 3, 2))\n",
    "print_obj(a, \"a\")"
   ]
  },
  {
   "cell_type": "markdown",
   "metadata": {},
   "source": [
    "## Indexing & Slicing "
   ]
  },
  {
   "cell_type": "code",
   "execution_count": 53,
   "metadata": {},
   "outputs": [
    {
     "name": "stdout",
     "output_type": "stream",
     "text": [
      "a:\n",
      "[0 1 2 3 4 5 6 7 8 9]\n",
      "\n",
      "a[0]:\n",
      "0\n",
      "\n",
      "a[1]:\n",
      "1\n",
      "\n",
      "a[-1]:\n",
      "9\n",
      "\n",
      "a[-3]:\n",
      "7\n",
      "\n"
     ]
    }
   ],
   "source": [
    "# Indexing and sclicing a vector\n",
    "a = np.arange(10)\n",
    "\n",
    "print_obj(a, \"a\")\n",
    "print_obj(a[0], \"a[0]\") # 0 \n",
    "print_obj(a[1], \"a[1]\") # 1\n",
    "print_obj(a[-1], \"a[-1]\") #9\n",
    "print_obj(a[-3], \"a[-3]\") #7 "
   ]
  },
  {
   "cell_type": "code",
   "execution_count": 57,
   "metadata": {},
   "outputs": [
    {
     "name": "stdout",
     "output_type": "stream",
     "text": [
      "a[0:10]:\n",
      "[0 1 2 3 4 5 6 7 8 9]\n",
      "\n",
      "a[0:]:\n",
      "[0 1 2 3 4 5 6 7 8 9]\n",
      "\n",
      "a[:10]:\n",
      "[0 1 2 3 4 5 6 7 8 9]\n",
      "\n",
      "a[:]:\n",
      "[0 1 2 3 4 5 6 7 8 9]\n",
      "\n"
     ]
    }
   ],
   "source": [
    "print_obj(a[0:10], \"a[0:10]\")\n",
    "print_obj(a[0:], \"a[0:]\")\n",
    "print_obj(a[:10], \"a[:10]\")\n",
    "print_obj(a[:], \"a[:]\")"
   ]
  },
  {
   "cell_type": "code",
   "execution_count": 60,
   "metadata": {},
   "outputs": [
    {
     "name": "stdout",
     "output_type": "stream",
     "text": [
      "a[7:]:\n",
      "[7 8 9]\n",
      "\n",
      "a[:5]:\n",
      "[0 1 2 3 4]\n",
      "\n",
      "a[2:5]:\n",
      "[2 3 4]\n",
      "\n"
     ]
    }
   ],
   "source": [
    "print_obj(a[7:], \"a[7:]\")\n",
    "print_obj(a[:5], \"a[:5]\")\n",
    "print_obj(a[2:5], \"a[2:5]\")"
   ]
  },
  {
   "cell_type": "code",
   "execution_count": 62,
   "metadata": {},
   "outputs": [
    {
     "name": "stdout",
     "output_type": "stream",
     "text": [
      "a[-4:]:\n",
      "[6 7 8 9]\n",
      "\n",
      "a[:-8]:\n",
      "[0 1]\n",
      "\n"
     ]
    }
   ],
   "source": [
    "# Quiz: what is a[-4:]\n",
    "# Quiz: waht is a[:-8]\n",
    "\n",
    "print_obj(a[-4:], \"a[-4:]\")\n",
    "print_obj(a[:-8], \"a[:-8]\")"
   ]
  },
  {
   "cell_type": "code",
   "execution_count": 65,
   "metadata": {},
   "outputs": [
    {
     "name": "stdout",
     "output_type": "stream",
     "text": [
      "a[0:10:2]:\n",
      "[0 2 4 6 8]\n",
      "\n",
      "a[0:10:3]:\n",
      "[0 3 6 9]\n",
      "\n",
      "a[2:6:3]:\n",
      "[2 5]\n",
      "\n"
     ]
    }
   ],
   "source": [
    "print_obj(a[0:10:2], \"a[0:10:2]\")\n",
    "print_obj(a[0:10:3], \"a[0:10:3]\")\n",
    "print_obj(a[2:6:3], \"a[2:6:3]\")"
   ]
  },
  {
   "cell_type": "code",
   "execution_count": 68,
   "metadata": {},
   "outputs": [
    {
     "name": "stdout",
     "output_type": "stream",
     "text": [
      "a[::-1]:\n",
      "[9 8 7 6 5 4 3 2 1 0]\n",
      "\n",
      "a[8:5:-1]:\n",
      "[8 7 6]\n",
      "\n",
      "a[8:5]:\n",
      "[]\n",
      "\n"
     ]
    }
   ],
   "source": [
    "print_obj(a[::-1], \"a[::-1]\")\n",
    "print_obj(a[8:5:-1], \"a[8:5:-1]\")\n",
    "print_obj(a[8:5], \"a[8:5]\")"
   ]
  },
  {
   "cell_type": "code",
   "execution_count": 71,
   "metadata": {},
   "outputs": [
    {
     "name": "stdout",
     "output_type": "stream",
     "text": [
      "a[9:0:-3]:\n",
      "[9 6 3]\n",
      "\n"
     ]
    }
   ],
   "source": [
    "# Quiz: create [9, 6, 3] using a\n",
    "print_obj(a[9:0:-3], \"a[9:0:-3]\")"
   ]
  },
  {
   "cell_type": "code",
   "execution_count": 76,
   "metadata": {},
   "outputs": [
    {
     "name": "stdout",
     "output_type": "stream",
     "text": [
      "a:\n",
      "[[0 1 2]\n",
      " [3 4 5]\n",
      " [6 7 8]]\n",
      "\n",
      "a[0][0]:\n",
      "0\n",
      "\n",
      "a[0,0]:\n",
      "0\n",
      "\n",
      "a[1,1]:\n",
      "4\n",
      "\n"
     ]
    }
   ],
   "source": [
    "a = np.arange(9).reshape((3, 3))\n",
    "print_obj(a, \"a\")\n",
    "print_obj(a[0][0], \"a[0][0]\") #0\n",
    "print_obj(a[0, 0], \"a[0,0]\") #0\n",
    "print_obj(a[1, 1], \"a[1,1]\") #4"
   ]
  },
  {
   "cell_type": "code",
   "execution_count": 82,
   "metadata": {},
   "outputs": [
    {
     "name": "stdout",
     "output_type": "stream",
     "text": [
      "a[-1,:]:\n",
      "[6 7 8]\n",
      "\n",
      "a[:,1]:\n",
      "[1 4 7]\n",
      "\n",
      "a[-1:0:-1, 2]:\n",
      "[8 5]\n",
      "\n"
     ]
    }
   ],
   "source": [
    "# Quiz: how to access the last row? \n",
    "print_obj(a[-1, :], \"a[-1,:]\") #\n",
    "\n",
    "#Quiz: how to access the second column? \n",
    "print_obj(a[:, 1], \"a[:,1]\") \n",
    "\n",
    "# Quiz: how to create [8, 5] using a ?\n",
    "print_obj(a[-1:0:-1, 2], \"a[-1:0:-1, 2]\") "
   ]
  },
  {
   "cell_type": "code",
   "execution_count": 84,
   "metadata": {},
   "outputs": [
    {
     "name": "stdout",
     "output_type": "stream",
     "text": [
      "a:\n",
      "[[[ 0  1]\n",
      "  [ 2  3]\n",
      "  [ 4  5]]\n",
      "\n",
      " [[ 6  7]\n",
      "  [ 8  9]\n",
      "  [10 11]]\n",
      "\n",
      " [[12 13]\n",
      "  [14 15]\n",
      "  [16 17]]\n",
      "\n",
      " [[18 19]\n",
      "  [20 21]\n",
      "  [22 23]]]\n",
      "\n",
      "a[2, 1, 0]:\n",
      "14\n",
      "\n"
     ]
    }
   ],
   "source": [
    "a = np.arange(4*3*2).reshape((4,3,2))\n",
    "print_obj(a, \"a\")\n",
    "print_obj(a[2, 1, 0], \"a[2, 1, 0]\")"
   ]
  },
  {
   "cell_type": "code",
   "execution_count": 90,
   "metadata": {},
   "outputs": [
    {
     "name": "stdout",
     "output_type": "stream",
     "text": [
      "a[0]:\n",
      "[[0 1]\n",
      " [2 3]\n",
      " [4 5]]\n",
      "\n",
      "a[0, 1]:\n",
      "[2 3]\n",
      "\n",
      ":\n",
      "[[ 0  2  4]\n",
      " [ 6  8 10]]\n",
      "\n"
     ]
    }
   ],
   "source": [
    "# Quiz: what would be a[0]\n",
    "print_obj(a[0], \"a[0]\")\n",
    "\n",
    "#Quiz: what would be a[0, 1]?\n",
    "print_obj(a[0, 1], \"a[0, 1]\")\n",
    "\n",
    "#Quiz: create [[0, 2, 4],[6, 8, 10]]\n",
    "print_obj(a[0:2,:, 0 ], \"\")"
   ]
  },
  {
   "cell_type": "code",
   "execution_count": 95,
   "metadata": {},
   "outputs": [
    {
     "name": "stdout",
     "output_type": "stream",
     "text": [
      "a:\n",
      "[[0 1]\n",
      " [2 3]\n",
      " [4 5]]\n",
      "\n",
      "idx:\n",
      "[[False False]\n",
      " [False  True]\n",
      " [ True  True]]\n",
      "\n",
      "a[idx]:\n",
      "[3 4 5]\n",
      "\n"
     ]
    }
   ],
   "source": [
    "# conditional indexing\n",
    "a = np.arange(3*2).reshape((3,2))\n",
    "print_obj(a, \"a\")\n",
    "\n",
    "\n",
    "#Quiz: how would you create [3, 4, 5] using a?\n",
    "\n",
    "idx = a > 2\n",
    "print_obj(idx, \"idx\")\n",
    "print_obj(a[idx], \"a[idx]\")"
   ]
  },
  {
   "cell_type": "code",
   "execution_count": 96,
   "metadata": {},
   "outputs": [
    {
     "name": "stdout",
     "output_type": "stream",
     "text": [
      "a[idx]:\n",
      "[0 2 3]\n",
      "\n"
     ]
    }
   ],
   "source": [
    "# Taking specific elements from a vector\n",
    "a = np.arange(10)\n",
    "idx = [0, 2, 3]\n",
    "print_obj(a[idx], \"a[idx]\")"
   ]
  },
  {
   "cell_type": "code",
   "execution_count": 103,
   "metadata": {},
   "outputs": [
    {
     "name": "stdout",
     "output_type": "stream",
     "text": [
      "a:\n",
      "[[ 0  1  2  3]\n",
      " [ 4  5  6  7]\n",
      " [ 8  9 10 11]\n",
      " [12 13 14 15]\n",
      " [16 17 18 19]\n",
      " [20 21 22 23]]\n",
      "\n",
      "a[:, [0,2,3]]:\n",
      "[[ 0  2  3]\n",
      " [ 4  6  7]\n",
      " [ 8 10 11]\n",
      " [12 14 15]\n",
      " [16 18 19]\n",
      " [20 22 23]]\n",
      "\n",
      "a[ [0,2,3], :]:\n",
      "[[ 0  1  2  3]\n",
      " [ 8  9 10 11]\n",
      " [12 13 14 15]]\n",
      "\n",
      "tuple indexing:\n",
      "[ 1  2  4 23]\n",
      "\n",
      "ndarray indexing:\n",
      "[[[ 0  1  2  3]\n",
      "  [ 0  1  2  3]\n",
      "  [ 4  5  6  7]\n",
      "  [20 21 22 23]]\n",
      "\n",
      " [[ 4  5  6  7]\n",
      "  [ 8  9 10 11]\n",
      "  [ 0  1  2  3]\n",
      "  [12 13 14 15]]]\n",
      "\n"
     ]
    }
   ],
   "source": [
    "a = np.arange(24).reshape((6,4))\n",
    "print_obj(a, \"a\")\n",
    "\n",
    "print_obj(a[:, [0,2,3]], \"a[:, [0,2,3]]\")\n",
    "print_obj(a[ [0,2,3], :], \"a[ [0,2,3], :]\")\n",
    "idx = ((0,0,1,5),(1,2,0,3))\n",
    "print_obj(a[idx], \"tuple indexing\") \n",
    "idx = np.array([[0,0,1,5],[1,2,0,3]])\n",
    "print_obj(a[idx], \"ndarray indexing\") # pay attention "
   ]
  },
  {
   "cell_type": "markdown",
   "metadata": {},
   "source": [
    "## Math Operations"
   ]
  },
  {
   "cell_type": "code",
   "execution_count": 106,
   "metadata": {},
   "outputs": [
    {
     "name": "stdout",
     "output_type": "stream",
     "text": [
      "a:\n",
      "[[0 1]\n",
      " [2 3]\n",
      " [4 5]]\n",
      "\n",
      "b:\n",
      "[[1. 1.]\n",
      " [1. 1.]\n",
      " [1. 1.]]\n",
      "\n",
      "a+b:\n",
      "[[1. 2.]\n",
      " [3. 4.]\n",
      " [5. 6.]]\n",
      "\n",
      "a-b:\n",
      "[[-1.  0.]\n",
      " [ 1.  2.]\n",
      " [ 3.  4.]]\n",
      "\n",
      "a*b:\n",
      "[[0. 1.]\n",
      " [2. 3.]\n",
      " [4. 5.]]\n",
      "\n",
      "a/b:\n",
      "[[0. 1.]\n",
      " [2. 3.]\n",
      " [4. 5.]]\n",
      "\n"
     ]
    }
   ],
   "source": [
    "# Basic operations\n",
    "\n",
    "a = np.arange(6).reshape((3,2))\n",
    "b = np.ones((3,2))\n",
    "print_obj(a, \"a\")\n",
    "print_obj(b, \"b\")\n",
    "\n",
    "# +, -, *, /\n",
    "print_obj(a+b, \"a+b\")\n",
    "print_obj(a-b, \"a-b\")\n",
    "print_obj(a*b, \"a*b\")\n",
    "print_obj(a/b, \"a/b\")"
   ]
  },
  {
   "cell_type": "code",
   "execution_count": 116,
   "metadata": {},
   "outputs": [
    {
     "name": "stdout",
     "output_type": "stream",
     "text": [
      "a:\n",
      "[[0 1]\n",
      " [2 3]\n",
      " [4 5]]\n",
      "\n",
      "a.sum():\n",
      "15\n",
      "\n",
      "a.sum(axis=0):\n",
      "[6 9]\n",
      "\n",
      "a.sum(axis=1):\n",
      "[1 5 9]\n",
      "\n",
      "a.mean():\n",
      "2.5\n",
      "\n",
      "a.max():\n",
      "5\n",
      "\n",
      "a.min():\n",
      "0\n",
      "\n",
      "a:\n",
      "[[[ 0  1  2  3]\n",
      "  [ 4  5  6  7]\n",
      "  [ 8  9 10 11]]\n",
      "\n",
      " [[12 13 14 15]\n",
      "  [16 17 18 19]\n",
      "  [20 21 22 23]]]\n",
      "\n",
      "a.sum(axis=2):\n",
      "[[ 6 22 38]\n",
      " [54 70 86]]\n",
      "\n",
      "a.sum(axis=2).mean():\n",
      "46.0\n",
      "\n"
     ]
    }
   ],
   "source": [
    "# Unary operations\n",
    "a = np.arange(6).reshape((3,2))\n",
    "print_obj(a, \"a\")\n",
    "\n",
    "print_obj(a.sum(), \"a.sum()\")\n",
    "print_obj(a.sum(axis=0), \"a.sum(axis=0)\")\n",
    "print_obj(a.sum(axis=1), \"a.sum(axis=1)\")\n",
    "\n",
    "print_obj(a.mean(), \"a.mean()\")\n",
    "print_obj(a.max(), \"a.max()\")\n",
    "print_obj(a.min(), \"a.min()\")\n",
    "\n",
    "#Quiz: Given a = np.arange(24).reshape((2, 3, 4)), what is the mean of the sum w.r.t. the last dimension \n",
    "\n",
    "a = np.arange(24).reshape((2, 3, 4))\n",
    "print_obj(a, \"a\")\n",
    "print_obj(a.sum(axis=2), \"a.sum(axis=2)\")\n",
    "print_obj(a.sum(axis=2).mean(), \"a.sum(axis=2).mean()\")"
   ]
  },
  {
   "cell_type": "code",
   "execution_count": 118,
   "metadata": {},
   "outputs": [
    {
     "name": "stdout",
     "output_type": "stream",
     "text": [
      "a:\n",
      "[0. 1. 2.]\n",
      "\n",
      "b:\n",
      "[1. 1. 1.]\n",
      "\n",
      "a dot b:\n",
      "3.0\n",
      "\n"
     ]
    }
   ],
   "source": [
    "# vector do product\n",
    "a = np.arange(3).astype(\"float\")\n",
    "b = np.ones(3)\n",
    "print_obj(a, \"a\")\n",
    "print_obj(b, \"b\")\n",
    "\n",
    "print_obj(np.dot(a, b), \"a dot b\")"
   ]
  },
  {
   "cell_type": "code",
   "execution_count": 122,
   "metadata": {},
   "outputs": [
    {
     "name": "stdout",
     "output_type": "stream",
     "text": [
      "a:\n",
      "[[0 1]\n",
      " [2 3]\n",
      " [4 5]]\n",
      "\n",
      "b:\n",
      "[[1. 1. 1.]\n",
      " [1. 1. 1.]]\n",
      "\n",
      "a dot b:\n",
      "[[1. 1. 1.]\n",
      " [5. 5. 5.]\n",
      " [9. 9. 9.]]\n",
      "\n",
      "a@b:\n",
      "[[1. 1. 1.]\n",
      " [5. 5. 5.]\n",
      " [9. 9. 9.]]\n",
      "\n"
     ]
    }
   ],
   "source": [
    "# matrix dot product, matrix multiplication\n",
    "a = np.arange(6).reshape((3,2))\n",
    "b = np.ones((2, 3))\n",
    "print_obj(a, \"a\")\n",
    "print_obj(b, \"b\")\n",
    "\n",
    "print_obj(np.dot(a, b), \"a dot b\")\n",
    "print_obj(a@b, \"a@b\")"
   ]
  },
  {
   "cell_type": "code",
   "execution_count": 136,
   "metadata": {},
   "outputs": [
    {
     "name": "stdout",
     "output_type": "stream",
     "text": [
      "a:\n",
      "[[[ 0  1]\n",
      "  [ 2  3]\n",
      "  [ 4  5]]\n",
      "\n",
      " [[ 6  7]\n",
      "  [ 8  9]\n",
      "  [10 11]]\n",
      "\n",
      " [[12 13]\n",
      "  [14 15]\n",
      "  [16 17]]\n",
      "\n",
      " [[18 19]\n",
      "  [20 21]\n",
      "  [22 23]]]\n",
      "\n",
      "b:\n",
      "[[[1. 1. 1.]\n",
      "  [1. 1. 1.]]\n",
      "\n",
      " [[1. 1. 1.]\n",
      "  [1. 1. 1.]]\n",
      "\n",
      " [[1. 1. 1.]\n",
      "  [1. 1. 1.]]\n",
      "\n",
      " [[1. 1. 1.]\n",
      "  [1. 1. 1.]]]\n",
      "\n",
      "a dot b:\n",
      "[[[[ 1.  1.  1.]\n",
      "   [ 1.  1.  1.]\n",
      "   [ 1.  1.  1.]\n",
      "   [ 1.  1.  1.]]\n",
      "\n",
      "  [[ 5.  5.  5.]\n",
      "   [ 5.  5.  5.]\n",
      "   [ 5.  5.  5.]\n",
      "   [ 5.  5.  5.]]\n",
      "\n",
      "  [[ 9.  9.  9.]\n",
      "   [ 9.  9.  9.]\n",
      "   [ 9.  9.  9.]\n",
      "   [ 9.  9.  9.]]]\n",
      "\n",
      "\n",
      " [[[13. 13. 13.]\n",
      "   [13. 13. 13.]\n",
      "   [13. 13. 13.]\n",
      "   [13. 13. 13.]]\n",
      "\n",
      "  [[17. 17. 17.]\n",
      "   [17. 17. 17.]\n",
      "   [17. 17. 17.]\n",
      "   [17. 17. 17.]]\n",
      "\n",
      "  [[21. 21. 21.]\n",
      "   [21. 21. 21.]\n",
      "   [21. 21. 21.]\n",
      "   [21. 21. 21.]]]\n",
      "\n",
      "\n",
      " [[[25. 25. 25.]\n",
      "   [25. 25. 25.]\n",
      "   [25. 25. 25.]\n",
      "   [25. 25. 25.]]\n",
      "\n",
      "  [[29. 29. 29.]\n",
      "   [29. 29. 29.]\n",
      "   [29. 29. 29.]\n",
      "   [29. 29. 29.]]\n",
      "\n",
      "  [[33. 33. 33.]\n",
      "   [33. 33. 33.]\n",
      "   [33. 33. 33.]\n",
      "   [33. 33. 33.]]]\n",
      "\n",
      "\n",
      " [[[37. 37. 37.]\n",
      "   [37. 37. 37.]\n",
      "   [37. 37. 37.]\n",
      "   [37. 37. 37.]]\n",
      "\n",
      "  [[41. 41. 41.]\n",
      "   [41. 41. 41.]\n",
      "   [41. 41. 41.]\n",
      "   [41. 41. 41.]]\n",
      "\n",
      "  [[45. 45. 45.]\n",
      "   [45. 45. 45.]\n",
      "   [45. 45. 45.]\n",
      "   [45. 45. 45.]]]]\n",
      "\n",
      "a@b:\n",
      "[[[ 1.  1.  1.]\n",
      "  [ 5.  5.  5.]\n",
      "  [ 9.  9.  9.]]\n",
      "\n",
      " [[13. 13. 13.]\n",
      "  [17. 17. 17.]\n",
      "  [21. 21. 21.]]\n",
      "\n",
      " [[25. 25. 25.]\n",
      "  [29. 29. 29.]\n",
      "  [33. 33. 33.]]\n",
      "\n",
      " [[37. 37. 37.]\n",
      "  [41. 41. 41.]\n",
      "  [45. 45. 45.]]]\n",
      "\n",
      "a dot b:\n",
      "[[[[ 1.  1.  1.]\n",
      "   [ 1.  1.  1.]\n",
      "   [ 1.  1.  1.]\n",
      "   [ 1.  1.  1.]]\n",
      "\n",
      "  [[ 5.  5.  5.]\n",
      "   [ 5.  5.  5.]\n",
      "   [ 5.  5.  5.]\n",
      "   [ 5.  5.  5.]]\n",
      "\n",
      "  [[ 9.  9.  9.]\n",
      "   [ 9.  9.  9.]\n",
      "   [ 9.  9.  9.]\n",
      "   [ 9.  9.  9.]]]\n",
      "\n",
      "\n",
      " [[[13. 13. 13.]\n",
      "   [13. 13. 13.]\n",
      "   [13. 13. 13.]\n",
      "   [13. 13. 13.]]\n",
      "\n",
      "  [[17. 17. 17.]\n",
      "   [17. 17. 17.]\n",
      "   [17. 17. 17.]\n",
      "   [17. 17. 17.]]\n",
      "\n",
      "  [[21. 21. 21.]\n",
      "   [21. 21. 21.]\n",
      "   [21. 21. 21.]\n",
      "   [21. 21. 21.]]]\n",
      "\n",
      "\n",
      " [[[25. 25. 25.]\n",
      "   [25. 25. 25.]\n",
      "   [25. 25. 25.]\n",
      "   [25. 25. 25.]]\n",
      "\n",
      "  [[29. 29. 29.]\n",
      "   [29. 29. 29.]\n",
      "   [29. 29. 29.]\n",
      "   [29. 29. 29.]]\n",
      "\n",
      "  [[33. 33. 33.]\n",
      "   [33. 33. 33.]\n",
      "   [33. 33. 33.]\n",
      "   [33. 33. 33.]]]\n",
      "\n",
      "\n",
      " [[[37. 37. 37.]\n",
      "   [37. 37. 37.]\n",
      "   [37. 37. 37.]\n",
      "   [37. 37. 37.]]\n",
      "\n",
      "  [[41. 41. 41.]\n",
      "   [41. 41. 41.]\n",
      "   [41. 41. 41.]\n",
      "   [41. 41. 41.]]\n",
      "\n",
      "  [[45. 45. 45.]\n",
      "   [45. 45. 45.]\n",
      "   [45. 45. 45.]\n",
      "   [45. 45. 45.]]]]\n",
      "\n",
      "np.matmul(a,b):\n",
      "[[[ 1.  1.  1.]\n",
      "  [ 5.  5.  5.]\n",
      "  [ 9.  9.  9.]]\n",
      "\n",
      " [[13. 13. 13.]\n",
      "  [17. 17. 17.]\n",
      "  [21. 21. 21.]]\n",
      "\n",
      " [[25. 25. 25.]\n",
      "  [29. 29. 29.]\n",
      "  [33. 33. 33.]]\n",
      "\n",
      " [[37. 37. 37.]\n",
      "  [41. 41. 41.]\n",
      "  [45. 45. 45.]]]\n",
      "\n"
     ]
    }
   ],
   "source": [
    "# tensor dot product, tensor multiplication\n",
    "\n",
    "a = np.arange(24).reshape((4, 3, 2))\n",
    "b = np.ones((4, 2, 3))\n",
    "print_obj(a, \"a\")\n",
    "print_obj(b, \"b\")\n",
    "\n",
    "print_obj(np.dot(a, b), \"a dot b\")\n",
    "print_obj(a@b, \"a@b\")\n",
    "\n",
    "# Quiz: what would happen if a.shape=(4,3, 2) and b.shape=(2, 3)\n",
    "print_obj(np.dot(a, b), \"a dot b\") # 4, 3, 3\n",
    "print_obj(np.matmul(a,b), \"np.matmul(a,b)\")"
   ]
  },
  {
   "cell_type": "markdown",
   "metadata": {},
   "source": [
    "## Shape Manipulation"
   ]
  },
  {
   "cell_type": "code",
   "execution_count": 138,
   "metadata": {},
   "outputs": [
    {
     "name": "stdout",
     "output_type": "stream",
     "text": [
      "a:\n",
      "[[[ 0  1  2  3]\n",
      "  [ 4  5  6  7]\n",
      "  [ 8  9 10 11]]\n",
      "\n",
      " [[12 13 14 15]\n",
      "  [16 17 18 19]\n",
      "  [20 21 22 23]]]\n",
      "\n",
      "b:\n",
      "[[ 0  1  2  3]\n",
      " [ 4  5  6  7]\n",
      " [ 8  9 10 11]\n",
      " [12 13 14 15]\n",
      " [16 17 18 19]\n",
      " [20 21 22 23]]\n",
      "\n",
      "d:\n",
      "[[[ 0]\n",
      "  [ 1]\n",
      "  [ 2]\n",
      "  [ 3]]\n",
      "\n",
      " [[ 4]\n",
      "  [ 5]\n",
      "  [ 6]\n",
      "  [ 7]]\n",
      "\n",
      " [[ 8]\n",
      "  [ 9]\n",
      "  [10]\n",
      "  [11]]\n",
      "\n",
      " [[12]\n",
      "  [13]\n",
      "  [14]\n",
      "  [15]]\n",
      "\n",
      " [[16]\n",
      "  [17]\n",
      "  [18]\n",
      "  [19]]\n",
      "\n",
      " [[20]\n",
      "  [21]\n",
      "  [22]\n",
      "  [23]]]\n",
      "\n"
     ]
    }
   ],
   "source": [
    "# Reshape\n",
    "\n",
    "a = np.arange(24).reshape((2, 3, 4))\n",
    "print_obj(a, \"a\")\n",
    "\n",
    "b = a.reshape((6, 4))\n",
    "print_obj(b, \"b\")\n",
    "\n",
    "#Quiz: what would d=a.reshape((6, 4, -1)) look like? \n",
    "d=a.reshape((6, 4, -1))\n",
    "print_obj(d, \"d\")"
   ]
  },
  {
   "cell_type": "code",
   "execution_count": 143,
   "metadata": {},
   "outputs": [
    {
     "name": "stdout",
     "output_type": "stream",
     "text": [
      "a:\n",
      "[0 1 2]\n",
      "\n",
      "a[:, None]:\n",
      "[[0]\n",
      " [1]\n",
      " [2]]\n",
      "\n",
      "a:\n",
      "[[1. 1. 1. 1.]\n",
      " [1. 1. 1. 1.]\n",
      " [1. 1. 1. 1.]]\n",
      "\n",
      "a[:, None]:\n",
      "[[[[1. 1. 1. 1.]]]\n",
      "\n",
      "\n",
      " [[[1. 1. 1. 1.]]]\n",
      "\n",
      "\n",
      " [[[1. 1. 1. 1.]]]]\n",
      "\n",
      "a.reshape((3, 1, -1, 4)):\n",
      "[[[[1. 1. 1. 1.]]]\n",
      "\n",
      "\n",
      " [[[1. 1. 1. 1.]]]\n",
      "\n",
      "\n",
      " [[[1. 1. 1. 1.]]]]\n",
      "\n"
     ]
    }
   ],
   "source": [
    "# adding an extra dimension\n",
    "a = np.arange(3)\n",
    "print_obj(a, \"a\")\n",
    "\n",
    "print_obj(a[:, None], \"a[:, None]\")\n",
    "\n",
    "# Quiz: how to make a = np.ones((3, 4)) into shape(3, 1, 1, 4) using reshape and None?\n",
    "a = np.ones((3, 4))\n",
    "print_obj(a, \"a\")\n",
    "a = a[:, None]\n",
    "print_obj(a[:, None], \"a[:, None]\")\n",
    "a = a.reshape((3, 1, -1, 4))\n",
    "print_obj(a.reshape((3, 1, -1, 4)), \"a.reshape((3, 1, -1, 4))\")"
   ]
  },
  {
   "cell_type": "code",
   "execution_count": 152,
   "metadata": {},
   "outputs": [
    {
     "name": "stdout",
     "output_type": "stream",
     "text": [
      "a:\n",
      "[[1. 1.]\n",
      " [1. 1.]\n",
      " [1. 1.]]\n",
      "\n",
      "b:\n",
      "[[0. 0.]\n",
      " [0. 0.]\n",
      " [0. 0.]]\n",
      "\n",
      "a, b  vstack:\n",
      "[[1. 1.]\n",
      " [1. 1.]\n",
      " [1. 1.]\n",
      " [0. 0.]\n",
      " [0. 0.]\n",
      " [0. 0.]]\n",
      "\n",
      "a, b hstack:\n",
      "[[1. 1. 0. 0.]\n",
      " [1. 1. 0. 0.]\n",
      " [1. 1. 0. 0.]]\n",
      "\n",
      "a, b concat, axis = 0:\n",
      "[[1. 1.]\n",
      " [1. 1.]\n",
      " [1. 1.]\n",
      " [0. 0.]\n",
      " [0. 0.]\n",
      " [0. 0.]]\n",
      "\n",
      "a, b concat, axis = 1:\n",
      "[[1. 1. 0. 0.]\n",
      " [1. 1. 0. 0.]\n",
      " [1. 1. 0. 0.]]\n",
      "\n"
     ]
    }
   ],
   "source": [
    "# stack, concatenation\n",
    "a = np.ones((3, 2))\n",
    "b = np.zeros((3, 2))\n",
    "print_obj(a, \"a\")\n",
    "print_obj(b, \"b\")\n",
    "\n",
    "print_obj(np.vstack([a, b]), \"a, b  vstack\")\n",
    "print_obj(np.hstack([a, b]), \"a, b hstack\")\n",
    "\n",
    "print_obj(np.concatenate([a, b], axis = 0), \"a, b concat, axis = 0\")\n",
    "print_obj(np.concatenate([a, b], axis = 1), \"a, b concat, axis = 1\")\n",
    "\n",
    "# Quiz: would concatenating two tensors whose space are (4, 3, 2) and (5, 4, 2) on axis = 2 work?  Nope \n",
    "# a = np.ones((4,3, 2))\n",
    "# b = np.zeros((5,4, 2))\n",
    "# print_obj(np.concatenate([a, b], axis = 2), \"a, b concat, axis = 2\")"
   ]
  },
  {
   "cell_type": "code",
   "execution_count": 155,
   "metadata": {},
   "outputs": [
    {
     "name": "stdout",
     "output_type": "stream",
     "text": [
      "a:\n",
      "[[0 1]\n",
      " [2 3]\n",
      " [4 5]]\n",
      "\n",
      "a.T:\n",
      "[[0 2 4]\n",
      " [1 3 5]]\n",
      "\n"
     ]
    }
   ],
   "source": [
    "# matrix transpose\n",
    "a = np.arange(6).reshape((3, 2))\n",
    "print_obj(a, \"a\")\n",
    "\n",
    "print_obj(a.T, \"a.T\")"
   ]
  },
  {
   "cell_type": "code",
   "execution_count": 158,
   "metadata": {},
   "outputs": [
    {
     "name": "stdout",
     "output_type": "stream",
     "text": [
      "a:\n",
      "[[[ 0  1]\n",
      "  [ 2  3]\n",
      "  [ 4  5]]\n",
      "\n",
      " [[ 6  7]\n",
      "  [ 8  9]\n",
      "  [10 11]]\n",
      "\n",
      " [[12 13]\n",
      "  [14 15]\n",
      "  [16 17]]\n",
      "\n",
      " [[18 19]\n",
      "  [20 21]\n",
      "  [22 23]]]\n",
      "\n",
      "swap axis 1 and 2:\n",
      "[[[ 0  2  4]\n",
      "  [ 1  3  5]]\n",
      "\n",
      " [[ 6  8 10]\n",
      "  [ 7  9 11]]\n",
      "\n",
      " [[12 14 16]\n",
      "  [13 15 17]]\n",
      "\n",
      " [[18 20 22]\n",
      "  [19 21 23]]]\n",
      "\n",
      "b.shape:\n",
      "(4, 2, 3)\n",
      "\n",
      "swap axis 0 and 1:\n",
      "[[[ 0  1]\n",
      "  [ 6  7]\n",
      "  [12 13]\n",
      "  [18 19]]\n",
      "\n",
      " [[ 2  3]\n",
      "  [ 8  9]\n",
      "  [14 15]\n",
      "  [20 21]]\n",
      "\n",
      " [[ 4  5]\n",
      "  [10 11]\n",
      "  [16 17]\n",
      "  [22 23]]]\n",
      "\n",
      "c.shape:\n",
      "(3, 4, 2)\n",
      "\n"
     ]
    }
   ],
   "source": [
    "# Tensor transpose\n",
    "a = np.arange(24).reshape((4, 3, 2))\n",
    "print_obj(a, \"a\")\n",
    "\n",
    "b = np.transpose(a, [0, 2, 1])\n",
    "print_obj(b, \"swap axis 1 and 2\")\n",
    "print_obj(b.shape, \"b.shape\")\n",
    "\n",
    "c = np.transpose(a, [1, 0, 2])\n",
    "print_obj(c, \"swap axis 0 and 1\")\n",
    "print_obj(c.shape, \"c.shape\")"
   ]
  },
  {
   "cell_type": "markdown",
   "metadata": {},
   "source": [
    "## Broadcasting "
   ]
  },
  {
   "cell_type": "code",
   "execution_count": 160,
   "metadata": {},
   "outputs": [
    {
     "name": "stdout",
     "output_type": "stream",
     "text": [
      "a:\n",
      "[0 1 2]\n",
      "\n",
      "a+b:\n",
      "[2. 3. 4.]\n",
      "\n",
      "a-b:\n",
      "[-2. -1.  0.]\n",
      "\n",
      "a*b:\n",
      "[0. 2. 4.]\n",
      "\n",
      "a/b:\n",
      "[0.  0.5 1. ]\n",
      "\n"
     ]
    }
   ],
   "source": [
    "# vector and scalar\n",
    "a = np.arange(3)\n",
    "b = 2. \n",
    "print_obj(a, \"a\")\n",
    "\n",
    "print_obj(a+b, \"a+b\")\n",
    "print_obj(a-b, \"a-b\")\n",
    "print_obj(a*b, \"a*b\")\n",
    "print_obj(a/b, \"a/b\")"
   ]
  },
  {
   "cell_type": "code",
   "execution_count": 171,
   "metadata": {},
   "outputs": [
    {
     "name": "stdout",
     "output_type": "stream",
     "text": [
      "a:\n",
      "[[0 1]\n",
      " [2 3]\n",
      " [4 5]]\n",
      "\n",
      "b:\n",
      "[1 2]\n",
      "\n",
      "a + b:\n",
      "[[1 3]\n",
      " [3 5]\n",
      " [5 7]]\n",
      "\n",
      "b:\n",
      "[[0 1]]\n",
      "\n",
      "a + b:\n",
      "[[0 2]\n",
      " [2 4]\n",
      " [4 6]]\n",
      "\n"
     ]
    }
   ],
   "source": [
    "# matrix and vector\n",
    "a = np.arange(6).reshape((3, 2))\n",
    "b = np.arange(2) + 1\n",
    "print_obj(a, \"a\")\n",
    "print_obj(b, \"b\")\n",
    "\n",
    "print_obj(a + b, \"a + b\")\n",
    "\n",
    "#Quiz: what would happen if b were np.arange(2).reshape((2, 1))? How about np.arange(2).reshape((1,2))? \n",
    "# b = np.arange(2).reshape((2, 1)) \n",
    "# print_obj(a + b, \"a + b\") # nope\n",
    "\n",
    "b = np.arange(2).reshape((1, 2)) \n",
    "print_obj(b, \"b\")\n",
    "print_obj(a + b, \"a + b\")"
   ]
  },
  {
   "cell_type": "code",
   "execution_count": 173,
   "metadata": {},
   "outputs": [
    {
     "name": "stdout",
     "output_type": "stream",
     "text": [
      "a:\n",
      "[[[ 0  1]\n",
      "  [ 2  3]\n",
      "  [ 4  5]]\n",
      "\n",
      " [[ 6  7]\n",
      "  [ 8  9]\n",
      "  [10 11]]]\n",
      "\n",
      "b:\n",
      "[[0 1]\n",
      " [2 3]\n",
      " [4 5]]\n",
      "\n",
      "a + b:\n",
      "[[[ 0  2]\n",
      "  [ 4  6]\n",
      "  [ 8 10]]\n",
      "\n",
      " [[ 6  8]\n",
      "  [10 12]\n",
      "  [14 16]]]\n",
      "\n",
      "a + b:\n",
      "[[[ 0  2]\n",
      "  [ 4  6]\n",
      "  [ 8 10]]\n",
      "\n",
      " [[ 6  8]\n",
      "  [10 12]\n",
      "  [14 16]]]\n",
      "\n"
     ]
    }
   ],
   "source": [
    "# tensor and matrix\n",
    "a = np.arange(12).reshape((2, 3, 2))\n",
    "b = np.arange(6).reshape((3, 2))\n",
    "print_obj(a, \"a\")\n",
    "print_obj(b, \"b\")\n",
    "\n",
    "print_obj(a + b, \"a + b\")\n",
    "\n",
    "#Quiz: how can we use None to do  a + b?\n",
    "b = b[None, :, :]\n",
    "\n",
    "print_obj(a + b, \"a + b\")"
   ]
  },
  {
   "cell_type": "code",
   "execution_count": null,
   "metadata": {},
   "outputs": [],
   "source": [
    "def sigmoid(x):\n",
    "    return 1./(1. + np.exp(-x))\n",
    "\n",
    "# Define a function that, given M of shape (m,n) and W of shape (4n, n), executes the following:\n",
    "# - Take the first half rows of M\n",
    "# - Take the second half rows of M\n",
    "# - Take the odd-numbered rows of M\n",
    "# - Take the even-numbered rows of M\n",
    "# - Append them horizontally in the listed order so that you obtain a matrix X of shape (m/2, 4n)\n",
    "# - Linearly transform X with W so that you obtain a matrix Y of shape (m/2, n)\n",
    "# - Put Y through the sigmoid function\n",
    "# - Obtain the sum of the row-wise mean\n",
    "\n",
    "def foo(M, W):\n",
    "    m = M.shape[0]\n",
    "    firstHalf = M[:m/2,:]\n",
    "    secHalf = M[m/2:, :]\n",
    "    oddHalf = M[1::2, :]\n",
    "    evenHalf = M[0::2, :]\n",
    "    X = np.concatenate([firstHalf, secHalf, oddHalf, evenHalf], axis = 1)\n",
    "    Y = np.matmul(X, W)\n",
    "    y = sigmid(Y)\n",
    "    result = np.sum(y.mean(axis=0))\n",
    "    return result \n",
    "\n"
   ]
  }
 ],
 "metadata": {
  "kernelspec": {
   "display_name": "Python 3",
   "language": "python",
   "name": "python3"
  },
  "language_info": {
   "codemirror_mode": {
    "name": "ipython",
    "version": 3
   },
   "file_extension": ".py",
   "mimetype": "text/x-python",
   "name": "python",
   "nbconvert_exporter": "python",
   "pygments_lexer": "ipython3",
   "version": "3.6.10"
  }
 },
 "nbformat": 4,
 "nbformat_minor": 4
}
